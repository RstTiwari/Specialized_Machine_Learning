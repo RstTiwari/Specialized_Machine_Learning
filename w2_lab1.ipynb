{
 "cells": [
  {
   "cell_type": "code",
   "execution_count": 1,
   "id": "ea3f90e3-0c41-4e52-ab5a-63b4d1cb1d97",
   "metadata": {},
   "outputs": [],
   "source": [
    "import numpy as np\n",
    "import matplotlib.pyplot as plt\n"
   ]
  },
  {
   "cell_type": "raw",
   "id": "76cfcd2b-adb1-4242-8c93-74e26f9e1cde",
   "metadata": {},
   "source": [
    "The Prblem statment"
   ]
  },
  {
   "cell_type": "markdown",
   "id": "d28e24fc-21c2-4655-836c-e0c593444315",
   "metadata": {},
   "source": [
    "Calculting the  Prediction using Multiple Features"
   ]
  },
  {
   "cell_type": "code",
   "execution_count": 2,
   "id": "bf7b8237-d9fe-4486-b3b0-9607044a5ec9",
   "metadata": {},
   "outputs": [],
   "source": [
    "X_train = np.array([[2104, 5, 1, 45], [1416, 3, 2, 40], [852, 2, 1, 35]])\n",
    "y_train = np.array([460, 232, 178])"
   ]
  },
  {
   "cell_type": "markdown",
   "id": "01de03a0-f28e-4bc8-b655-449a8d9d1513",
   "metadata": {},
   "source": [
    "#The Basic Formula to find The Prediction\n",
    "\n",
    "$$ f_\\mathbf{{w},b} \\mathbf(x) =  w_0x_0 + w_1x_1 + w_2x_2 + w_3x_3 ........ w_nx_n+b \\tag{1} $$  \n",
    "$$ f_\\mathbf{{w},b}  = \\mathbf{w} \\cdot \\mathbf{x} + b     \\tag{2} $$  \n",
    "\n"
   ]
  },
  {
   "cell_type": "code",
   "execution_count": null,
   "id": "3d8a9c6f-95a3-4590-b7cd-897200da54a3",
   "metadata": {},
   "outputs": [],
   "source": []
  }
 ],
 "metadata": {
  "kernelspec": {
   "display_name": "Python 3 (ipykernel)",
   "language": "python",
   "name": "python3"
  },
  "language_info": {
   "codemirror_mode": {
    "name": "ipython",
    "version": 3
   },
   "file_extension": ".py",
   "mimetype": "text/x-python",
   "name": "python",
   "nbconvert_exporter": "python",
   "pygments_lexer": "ipython3",
   "version": "3.12.7"
  }
 },
 "nbformat": 4,
 "nbformat_minor": 5
}
