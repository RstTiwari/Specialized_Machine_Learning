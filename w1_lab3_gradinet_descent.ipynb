{
 "cells": [
  {
   "cell_type": "markdown",
   "id": "37414e5c-9276-4091-a0a8-e61e7f148da2",
   "metadata": {},
   "source": [
    "\n",
    " Gradient Descent for Linear Regression\n",
    "\n"
   ]
  },
  {
   "cell_type": "raw",
   "id": "9557feff-913a-449c-a427-bbb314320fd3",
   "metadata": {},
   "source": [
    "Problem - Defining and   Using Gradient Decent in Details Details "
   ]
  },
  {
   "cell_type": "code",
   "execution_count": 3,
   "id": "65ff6ae6-625e-4500-bd1b-1695a7f6cbe1",
   "metadata": {},
   "outputs": [
    {
     "name": "stdout",
     "output_type": "stream",
     "text": [
      "['Solarize_Light2', '_classic_test_patch', '_mpl-gallery', '_mpl-gallery-nogrid', 'bmh', 'classic', 'dark_background', 'fast', 'fivethirtyeight', 'ggplot', 'grayscale', 'seaborn-v0_8', 'seaborn-v0_8-bright', 'seaborn-v0_8-colorblind', 'seaborn-v0_8-dark', 'seaborn-v0_8-dark-palette', 'seaborn-v0_8-darkgrid', 'seaborn-v0_8-deep', 'seaborn-v0_8-muted', 'seaborn-v0_8-notebook', 'seaborn-v0_8-paper', 'seaborn-v0_8-pastel', 'seaborn-v0_8-poster', 'seaborn-v0_8-talk', 'seaborn-v0_8-ticks', 'seaborn-v0_8-white', 'seaborn-v0_8-whitegrid', 'tableau-colorblind10']\n"
     ]
    }
   ],
   "source": [
    "import numpy as np\n",
    "import matplotlib.pyplot as plt\n",
    "plt.style.use(\"classic\")\n"
   ]
  },
  {
   "cell_type": "code",
   "execution_count": 4,
   "id": "8abbb2b8-2f11-4b4a-b805-71790240394c",
   "metadata": {},
   "outputs": [],
   "source": [
    "# let's load out Dataset for much details knowledge\n",
    "x_train = [1,2,3]  # size in thousand square feet\n",
    "y_train = [100,200,300]  # price in thosuand dollors"
   ]
  },
  {
   "cell_type": "code",
   "execution_count": 6,
   "id": "76e05bb8-5e25-4073-8ae2-f717ed60a3e6",
   "metadata": {},
   "outputs": [],
   "source": [
    "# let define the Fucntion to compute the  Cost Function\n",
    "\n",
    "# J(w,b) = 1/2m sumation( f(w,b) - y )**2\n",
    "#          = 1/2m sumation((wx+ b) - y)**2\n",
    "def cost_function (x,y,w,b):\n",
    "    cost = 0\n",
    "    m = len(x)\n",
    "    for i in range(m):\n",
    "        f_wb  =  w*x[i]  + b\n",
    "        cost  = cost + (f_wb - y[i])**2\n",
    "    total_cost = 1 / (2*m) * cost\n",
    "    \n",
    "        \n",
    "    "
   ]
  },
  {
   "cell_type": "code",
   "execution_count": 13,
   "id": "ac38049e-8a03-47fa-a66c-12af1df21256",
   "metadata": {},
   "outputs": [],
   "source": [
    "# Defining the Compute Gradient decent fucntion \n",
    "# w = w + alph(dj(w,b)/dw)\n",
    "# b = b + alph (dj(w,b)/db\n",
    "# w = w + alpha( 1/m((wx +b) - y' )x\n",
    "# b = b + alpha(1/m (wx + b) - y')\n",
    "\n",
    "\n",
    "\n",
    "# this fucntion will calcualte  ( 1/m((wx +b) - y' )x , (1/m (wx + b) - y')\n",
    "# this fucntion will return d_dw , d_db\n",
    "\n",
    "def compute_gradinet (x,y,w,b):\n",
    "    m = len(x)\n",
    "    dj_dw = 0\n",
    "    dj_db = 0\n",
    "    for i in range(m):\n",
    "        f_wb = w*x[i] + b\n",
    "        tmp_w =  (f_wb - y[i])*x[i]\n",
    "        tmp_b =  (f_wb - y[i])\n",
    "        dj_dw += tmp_w\n",
    "        dj_db += tmp_b\n",
    "    return dj_dw/m , dj_db/m\n",
    "        \n",
    "    "
   ]
  },
  {
   "cell_type": "code",
   "execution_count": 26,
   "id": "2d4a0631-5bc6-42b9-a0e1-a3aa0d1abcb5",
   "metadata": {},
   "outputs": [],
   "source": [
    "# this function will give \n",
    "w_init = 0\n",
    "b_init = 0\n",
    "num_itr = 1000\n",
    "alpha = 0.01\n",
    "def gradient_decent(x,y,w_init,b_init,alpha , num_itr, compute_gradient):\n",
    "    w = w_init\n",
    "    b = b_init\n",
    "\n",
    "    for i in range(num_itr):\n",
    "        dj_dw , dj_db = compute_gradient(x,y,w,b)\n",
    "        w = w - alpha*dj_dw\n",
    "        b  = b = alpha*dj_db\n",
    "\n",
    "    return w ,b\n",
    "     \n",
    "    \n"
   ]
  },
  {
   "cell_type": "code",
   "execution_count": 27,
   "id": "251d21be-e16e-47cc-be05-501d5b172d19",
   "metadata": {},
   "outputs": [
    {
     "name": "stdout",
     "output_type": "stream",
     "text": [
      "99.99999999999986 -2.936909974475081e-15\n"
     ]
    }
   ],
   "source": [
    "w, b = gradient_decent(x_train,y_train, w_init,b_init,alpha,num_itr, compute_gradinet)\n",
    "print(w,b)"
   ]
  },
  {
   "cell_type": "code",
   "execution_count": 31,
   "id": "70afc5ca-1185-459a-9406-b925d7e52c7e",
   "metadata": {},
   "outputs": [
    {
     "name": "stdout",
     "output_type": "stream",
     "text": [
      "999.9999999999986\n"
     ]
    }
   ],
   "source": [
    "prdict = w*10 + b\n",
    "print(prdict)"
   ]
  }
 ],
 "metadata": {
  "kernelspec": {
   "display_name": "Python 3 (ipykernel)",
   "language": "python",
   "name": "python3"
  },
  "language_info": {
   "codemirror_mode": {
    "name": "ipython",
    "version": 3
   },
   "file_extension": ".py",
   "mimetype": "text/x-python",
   "name": "python",
   "nbconvert_exporter": "python",
   "pygments_lexer": "ipython3",
   "version": "3.12.7"
  }
 },
 "nbformat": 4,
 "nbformat_minor": 5
}
