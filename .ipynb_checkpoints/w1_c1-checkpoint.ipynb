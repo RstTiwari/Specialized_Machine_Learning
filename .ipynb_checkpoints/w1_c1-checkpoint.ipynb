{
 "cells": [
  {
   "cell_type": "markdown",
   "id": "05819770-e26e-402d-a026-e8fe439dab85",
   "metadata": {},
   "source": [
    "As trying to Practise the Fist Class Labe\n"
   ]
  },
  {
   "cell_type": "raw",
   "id": "66046703-517b-4095-82f2-7e0246f56c5d",
   "metadata": {},
   "source": [
    "Will practise the simple model function"
   ]
  },
  {
   "cell_type": "markdown",
   "id": "85dd931f-ac52-48d5-93ca-97034947dd0f",
   "metadata": {},
   "source": [
    "f(w,b)x_i = wx+b\n"
   ]
  },
  {
   "cell_type": "code",
   "execution_count": 1,
   "id": "8890aac2-7254-4970-9322-36b484218473",
   "metadata": {},
   "outputs": [],
   "source": [
    "x_train = [2,4,6,8]  #size in sqfeet\n",
    "y_train = [200,400,600,800] # size in thousand dollors\n"
   ]
  },
  {
   "cell_type": "code",
   "execution_count": 2,
   "id": "a16b51dc-3495-4154-bb64-43b3af17aa9f",
   "metadata": {},
   "outputs": [
    {
     "ename": "ModuleNotFoundError",
     "evalue": "No module named 'numpy'",
     "output_type": "error",
     "traceback": [
      "\u001b[1;31m---------------------------------------------------------------------------\u001b[0m",
      "\u001b[1;31mModuleNotFoundError\u001b[0m                       Traceback (most recent call last)",
      "Cell \u001b[1;32mIn[2], line 1\u001b[0m\n\u001b[1;32m----> 1\u001b[0m \u001b[38;5;28;01mimport\u001b[39;00m \u001b[38;5;21;01mnumpy\u001b[39;00m \u001b[38;5;28;01mas\u001b[39;00m \u001b[38;5;21;01mnp\u001b[39;00m\n\u001b[0;32m      2\u001b[0m \u001b[38;5;28;01mimport\u001b[39;00m \u001b[38;5;21;01mmatplotlib\u001b[39;00m\u001b[38;5;21;01m.\u001b[39;00m\u001b[38;5;21;01mpyplot\u001b[39;00m \u001b[38;5;28;01mas\u001b[39;00m \u001b[38;5;21;01mplt\u001b[39;00m\n\u001b[0;32m      3\u001b[0m \u001b[38;5;28mprint\u001b[39m(plt\u001b[38;5;241m.\u001b[39mstyle\u001b[38;5;241m.\u001b[39mavailable)\n",
      "\u001b[1;31mModuleNotFoundError\u001b[0m: No module named 'numpy'"
     ]
    }
   ],
   "source": [
    "import numpy as np\n",
    "import matplotlib.pyplot as plt\n",
    "print(plt.style.available)\n",
    "plt.style.use(\"classic\")"
   ]
  },
  {
   "cell_type": "code",
   "execution_count": null,
   "id": "fc0dbc6c-a8c2-4deb-8aa4-832cfa4d7b02",
   "metadata": {},
   "outputs": [],
   "source": [
    "# we have to find the value fo w , b but here we will predefined to use those values then find and calulcate latter in couse\n",
    "w = 85\n",
    "b = 75\n",
    "\n",
    "#f(w,b)*x_i = w*x_i + b\n",
    "x_1 = 100*2 + 100\n",
    "x_2 = 100*4 +100\n",
    "x_3 = 100*6 + 100\n",
    "x_4 = 100*8 + 100\n",
    "print(x_1,x_2,x_3,x_4)\n",
    "\n",
    "# if data set is big very difficult to calculate it like this way so need to make a fucntion were will get array of it"
   ]
  },
  {
   "cell_type": "code",
   "execution_count": null,
   "id": "9d6ff1b9-83fe-47a4-84dc-184305a956d0",
   "metadata": {},
   "outputs": [],
   "source": [
    "m = len(x_train)\n",
    "print(m,type(m))\n",
    "def model_output_prediction():\n",
    "    f_wb = np.zeros(m)\n",
    "    for i in range(m):\n",
    "        f_wb[i] = w*x_train[i] + b\n",
    "    return f_wb "
   ]
  },
  {
   "cell_type": "code",
   "execution_count": null,
   "id": "c6188946-8d16-4ee4-a9ce-e99ce58df10a",
   "metadata": {},
   "outputs": [],
   "source": [
    "f_wb_predict = model_output_prediction()\n",
    "print(f_wb_predict)"
   ]
  },
  {
   "cell_type": "code",
   "execution_count": null,
   "id": "e2b72f24-a1f7-467e-aec2-fd593253b7fd",
   "metadata": {},
   "outputs": [],
   "source": [
    "# now let plot the our output and the x tain\n",
    "\n",
    "plt.plot(x_train , f_wb_predict)\n",
    "\n",
    "# aloso plot over data points\n",
    "plt.scatter(x_train, y_train)"
   ]
  }
 ],
 "metadata": {
  "kernelspec": {
   "display_name": "Python 3 (ipykernel)",
   "language": "python",
   "name": "python3"
  },
  "language_info": {
   "codemirror_mode": {
    "name": "ipython",
    "version": 3
   },
   "file_extension": ".py",
   "mimetype": "text/x-python",
   "name": "python",
   "nbconvert_exporter": "python",
   "pygments_lexer": "ipython3",
   "version": "3.12.7"
  }
 },
 "nbformat": 4,
 "nbformat_minor": 5
}
